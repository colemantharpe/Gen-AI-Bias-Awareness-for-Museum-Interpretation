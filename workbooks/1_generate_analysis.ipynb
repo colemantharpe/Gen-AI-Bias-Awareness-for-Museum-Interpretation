{
 "cells": [
  {
   "cell_type": "markdown",
   "id": "b319cdf2",
   "metadata": {},
   "source": [
    "# Set up the environment\n",
    "## Install and import packages\n",
    "The following cells install certain required packages and components into your virtual environment for working through each of the steps in this particular programme. \n",
    "Read the comments (any text that follows \"#\") for details of each line. The comments will also contain details of what elements can be changed for your individual use case where applicable."
   ]
  },
  {
   "cell_type": "code",
   "execution_count": null,
   "id": "c659f190",
   "metadata": {},
   "outputs": [],
   "source": [
    "# Install required packages\n",
    "! pip install -r ../requirements.txt"
   ]
  },
  {
   "cell_type": "code",
   "execution_count": 1,
   "id": "dbdcc07a",
   "metadata": {},
   "outputs": [],
   "source": [
    "# import required packages\n",
    "import os # this package is used to access information from the operating system\n",
    "import json # this package is used to read and write JSON files\n",
    "import base64 # this package is used to encode and decode binary data, such as images\n",
    "from openai import OpenAI # this package is used to interact with the OpenAI API\n",
    "from dotenv import load_dotenv # this package is used to load environment variables from a .env file\n",
    "import pandas as pd # this package is used for working with datasets"
   ]
  },
  {
   "cell_type": "markdown",
   "id": "89ce71f7",
   "metadata": {},
   "source": [
    "## Set variables and define functions\n",
    "The following cells configure specific variables and define functions used later in this notebook. \n",
    "Note that using the OpenAI API requires an OpenAI secret key. OpenAI provides information about [managing your API keys.](https://platform.openai.com/docs/api-reference/authentication) "
   ]
  },
  {
   "cell_type": "code",
   "execution_count": null,
   "id": "4bc8a05c",
   "metadata": {},
   "outputs": [],
   "source": [
    "# Load environment variables within the virtual environment\n",
    "load_dotenv()  # This line brings all environment variables from .env into os.environ \n",
    "\n",
    "# Define the client and load the API key\n",
    "client = OpenAI()"
   ]
  },
  {
   "cell_type": "code",
   "execution_count": 6,
   "id": "0b26338e",
   "metadata": {},
   "outputs": [],
   "source": [
    "# Define a function to encode the image for the LLM\n",
    "def encode_image(image_path):\n",
    "    with open(image_path, \"rb\") as image_file:\n",
    "        return base64.b64encode(image_file.read()).decode(\"utf-8\")"
   ]
  },
  {
   "cell_type": "code",
   "execution_count": null,
   "id": "28956903",
   "metadata": {},
   "outputs": [],
   "source": [
    "# Define system instructions for the LLM. Using the API, users can set system instructions for all requests sent to the LLM, which guide the model's responses. Users can edit the text below to change the system instructions. Run this cell after making any changes to set the revised system instructions before generating responses.\n",
    "system_instructions = \"Interpretive text are words used to explain the meaning behind museums, collections, or objects. Museums use collections to convey meaning, and an immediate way to interpret museum collections is through text. Interpretive text can give you a chance to experiment and to think outside the box. Well planned, written and placed text is a useful and effective way of encouraging your visitors to engage with your collections and the meanings behind them. Consider an object in a museum without any interpretive text. Museum visitors will project their own meaning onto this object, drawing upon their experience, interest, and knowledge. The role of interpretive text is to show the object within its wider context whilst still allowing the visitor to make up their own mind. This can be applied to groups of objects, historic buildings, landscapes, events, or indeed anything else you are interpreting. Interpretive text should be clear and succinct. Most visitors will not want to read a label or panel of more than 100 words. The text should be split into short paragraphs. In addition to clarity, labels should also have personality and rhythm, which will be favourable to the visitor's imagination and pique their interest. Before you begin writing, remember: 1. Objects are relevant or interesting because of the people who have used or continue to use them. You should ensure that there is a human presence in your interpretive text. People relate to other people. Utilise a human story from any object you are interpreting; 2. Use text to place objects in their historical and cultural context; 3. The text is adding context and conveying information about the object. The emphasis should be on the object; the text should be supportive; 4. Interpretive text doesn't stop with a physical visit to the museum. Many visitors will have looked at the museum's website before visiting. They may continue to engage with the museum in a digital capacity post-visit. You can use a digital platform like your organisation's website to go into more detail about objects. When you do this, the overall tone and writing style should stay consistent with interpretive text used elsewhere; 5. A label should make direct reference to its object. Encourage the label reader to look closely at the object and to develop their own conclusions about it, where this is appropriate; 6. Carefully select each word you use so that either a narrative is developed, the reader has learned something, or their interest is stimulated. This will also help you to keep the text succinct. Follow the 25% rule of copywriting. (Write your text, then cut out 50%. Review, then cut out another 50%. The remaining 25% should be clear and concise.). People often talk about the tone of a piece of writing; the impression it might create in its readers, or the associations and memories that this may evoke in the reader. This is especially important when attempting to engage visitors in your collections, buildings, or spaces. You should ensure as far as possible that the tone of your interpretation is appropriate to the content of your exhibition. Are you interpreting something that may be divisive? Do the objects or text that make up your exhibit have the potential to be upsetting to people? Extra care should be taken be to ensure that your tone is respectful and appropriate, and that your language is inclusive. Use this guidance along with the metadata and image provided by the user to write interpretive text. The text should not exceed 100 words.\""
   ]
  },
  {
   "cell_type": "markdown",
   "id": "630d7287",
   "metadata": {},
   "source": [
    "## Testing your connection to OpenAI API\n",
    "The following cell allows users to test their connection to the OpenAI API. If there are problems with keys or with the model selected in the chat completion configuration, users can troubleshoot them now on an ad hoc basis before working programmatically with larger datasets.\n",
    "OpenAI makes available information about the [different models available to access via API](https://platform.openai.com/docs/pricing) along with the pricing per 1M tokens for each model.\n",
    "The following cells provides an example of a chat completion response along with the number of tokens consumed to produce that response.\n"
   ]
  },
  {
   "cell_type": "code",
   "execution_count": null,
   "id": "d4dd4e9b",
   "metadata": {},
   "outputs": [
    {
     "name": "stdout",
     "output_type": "stream",
     "text": [
      "ChatCompletion(id='chatcmpl-C1BdpeI3Zt2Bk9ef7CIss0te0lnRi', choices=[Choice(finish_reason='stop', index=0, logprobs=None, message=ChatCompletionMessage(content='Hello! How can I assist you today?', refusal=None, role='assistant', annotations=[], audio=None, function_call=None, tool_calls=None))], created=1754399113, model='gpt-3.5-turbo-0125', object='chat.completion', service_tier='default', system_fingerprint=None, usage=CompletionUsage(completion_tokens=9, prompt_tokens=19, total_tokens=28, completion_tokens_details=CompletionTokensDetails(accepted_prediction_tokens=0, audio_tokens=0, reasoning_tokens=0, rejected_prediction_tokens=0), prompt_tokens_details=PromptTokensDetails(audio_tokens=0, cached_tokens=0)))\n",
      "ChatCompletionMessage(content='Hello! How can I assist you today?', refusal=None, role='assistant', annotations=[], audio=None, function_call=None, tool_calls=None)\n",
      "Hello! How can I assist you today?\n",
      "********\n",
      "Completion tokens: 9\n",
      "Prompt tokens: 19\n",
      "Total tokens: 28\n"
     ]
    }
   ],
   "source": [
    "# Test the OpenAI API by creating a chat completion\n",
    "# This is a simple example to check if the API is working correctly\n",
    "# You can replace the messages with your own input to test different functionalities.\n",
    "\n",
    "completion = client.chat.completions.create(\n",
    "  model=\"gpt-3.5-turbo\", # You can change the model to any other available model\n",
    "  messages=[\n",
    "    {\"role\": \"system\", \"content\": \"You are a helpful assistant.\"},\n",
    "    {\"role\": \"user\", \"content\": \"Hello!\"}\n",
    "  ]\n",
    ")\n",
    "\n",
    "# The following lines show an example of how the model generates a response and how to access the generated content and associated metadata.\n",
    "print(completion) # This prints the entire completion object, which contains metadata and the generated response.\n",
    "print(completion.choices[0].message) # This prints the message part of the first choice in the completion, which is the actual response generated by the model.\n",
    "print(completion.choices[0].message.content) # This prints just the content of the message, which is the text response from the model.\n",
    "print(\"********\") # This prints a separator line for better readability in the output.\n",
    "# The following lines show how to access the token usage statistics of the completion request.\n",
    "print(\"Completion tokens: \"+str(completion.usage.completion_tokens)) # This prints the number of completion tokens used in the request.\n",
    "print(\"Prompt tokens: \"+str(completion.usage.prompt_tokens)) # This prints the number of prompt tokens used in the request.\n",
    "print(\"Total tokens: \"+str(completion.usage.total_tokens)) # This prints the number of total tokens used in the request."
   ]
  },
  {
   "cell_type": "markdown",
   "id": "d21324fe",
   "metadata": {},
   "source": [
    "# Create your first dataframe\n",
    "Now that you have set up your virtual environment with all requisite packages and parameters, import the collection metadata to start working with functions and scripts programmatically. Dataframes are two dimensional data structures, which are common ways of working with data in data science, machine learning, and other data intensive fields. The following two cells contain two ways of creating a dataframe (*df*) from a file. Use the first to import data from a CSV file and the second to import data directly from a JSON file. "
   ]
  },
  {
   "cell_type": "code",
   "execution_count": 3,
   "id": "f517da10",
   "metadata": {},
   "outputs": [
    {
     "data": {
      "text/html": [
       "<div>\n",
       "<style scoped>\n",
       "    .dataframe tbody tr th:only-of-type {\n",
       "        vertical-align: middle;\n",
       "    }\n",
       "\n",
       "    .dataframe tbody tr th {\n",
       "        vertical-align: top;\n",
       "    }\n",
       "\n",
       "    .dataframe thead th {\n",
       "        text-align: right;\n",
       "    }\n",
       "</style>\n",
       "<table border=\"1\" class=\"dataframe\">\n",
       "  <thead>\n",
       "    <tr style=\"text-align: right;\">\n",
       "      <th></th>\n",
       "      <th>museum_reference</th>\n",
       "      <th>title</th>\n",
       "      <th>description</th>\n",
       "      <th>date</th>\n",
       "      <th>style_culture</th>\n",
       "      <th>image</th>\n",
       "      <th>interpretation</th>\n",
       "    </tr>\n",
       "  </thead>\n",
       "  <tbody>\n",
       "    <tr>\n",
       "      <th>0</th>\n",
       "      <td>A.1911.397.243</td>\n",
       "      <td>Firestick</td>\n",
       "      <td>Firestick, wood with a reed sheath decorated w...</td>\n",
       "      <td>19th - 20th century</td>\n",
       "      <td>Australian Aboriginal</td>\n",
       "      <td>A.1911.397.243.png</td>\n",
       "      <td>A common method for making fire was to rub two...</td>\n",
       "    </tr>\n",
       "    <tr>\n",
       "      <th>1</th>\n",
       "      <td>A.1898.372.39</td>\n",
       "      <td>Vessel</td>\n",
       "      <td>Vessel (coolamon), roughly elliptical with rai...</td>\n",
       "      <td>19th century</td>\n",
       "      <td>Australian Aboriginal</td>\n",
       "      <td>A.1898.372.39.png</td>\n",
       "      <td>Coolamon are wooden dishes moulded over a fire...</td>\n",
       "    </tr>\n",
       "    <tr>\n",
       "      <th>2</th>\n",
       "      <td>A.1911.397.159</td>\n",
       "      <td>Bag</td>\n",
       "      <td>String bag (dilly-bag), plant fibre: Australas...</td>\n",
       "      <td>19th - 20th century</td>\n",
       "      <td>Australian Aboriginal</td>\n",
       "      <td>A.1911.397.159.png</td>\n",
       "      <td>Across Australia's Northern Territory, Aborigi...</td>\n",
       "    </tr>\n",
       "    <tr>\n",
       "      <th>3</th>\n",
       "      <td>K.2002.825</td>\n",
       "      <td>Basket</td>\n",
       "      <td>Basket, bicornual with handle, cane plant: Aus...</td>\n",
       "      <td>19th century</td>\n",
       "      <td>Australian Aboriginal</td>\n",
       "      <td>K.2002.825.png</td>\n",
       "      <td>Crescent-shaped cane baskets were unique to th...</td>\n",
       "    </tr>\n",
       "    <tr>\n",
       "      <th>4</th>\n",
       "      <td>V.2008.25</td>\n",
       "      <td>Basket</td>\n",
       "      <td>Basket with black, red and yellow strips runni...</td>\n",
       "      <td>c. 2007</td>\n",
       "      <td>Pitjantjatjara</td>\n",
       "      <td>V.2008.25.png</td>\n",
       "      <td>Colourful coiled baskets are popular tourist i...</td>\n",
       "    </tr>\n",
       "  </tbody>\n",
       "</table>\n",
       "</div>"
      ],
      "text/plain": [
       "  museum_reference      title  \\\n",
       "0   A.1911.397.243  Firestick   \n",
       "1    A.1898.372.39     Vessel   \n",
       "2   A.1911.397.159        Bag   \n",
       "3       K.2002.825     Basket   \n",
       "4        V.2008.25     Basket   \n",
       "\n",
       "                                         description                 date  \\\n",
       "0  Firestick, wood with a reed sheath decorated w...  19th - 20th century   \n",
       "1  Vessel (coolamon), roughly elliptical with rai...         19th century   \n",
       "2  String bag (dilly-bag), plant fibre: Australas...  19th - 20th century   \n",
       "3  Basket, bicornual with handle, cane plant: Aus...         19th century   \n",
       "4  Basket with black, red and yellow strips runni...              c. 2007   \n",
       "\n",
       "           style_culture               image  \\\n",
       "0  Australian Aboriginal  A.1911.397.243.png   \n",
       "1  Australian Aboriginal   A.1898.372.39.png   \n",
       "2  Australian Aboriginal  A.1911.397.159.png   \n",
       "3  Australian Aboriginal      K.2002.825.png   \n",
       "4         Pitjantjatjara       V.2008.25.png   \n",
       "\n",
       "                                      interpretation  \n",
       "0  A common method for making fire was to rub two...  \n",
       "1  Coolamon are wooden dishes moulded over a fire...  \n",
       "2  Across Australia's Northern Territory, Aborigi...  \n",
       "3  Crescent-shaped cane baskets were unique to th...  \n",
       "4  Colourful coiled baskets are popular tourist i...  "
      ]
     },
     "execution_count": 3,
     "metadata": {},
     "output_type": "execute_result"
    }
   ],
   "source": [
    "# use pandas to read a JSON file\n",
    "df = pd.read_json('../data/worldCulturesLivingLands.json')  # replace with your actual file path\n",
    "# The following line selects specific columns from the data. You can add, remove, or use different names for the columns based on your dataset.\n",
    "df = df[['museum_reference','title','description','date','style_culture','image','interpretation']]\n",
    "# display the first few rows of the dataframe\n",
    "df.head()"
   ]
  },
  {
   "cell_type": "markdown",
   "id": "e4edef51",
   "metadata": {},
   "source": [
    "# Generate interpretive text using the LLM\n",
    "\n",
    "The following cell uses the system instructions, metadata, and an image of the object to prompt the selected model to generate interpretive text for each object in the dataframe created above using the OpenAI GPT4.1 model.\n",
    "Model selection depends on a variety of factors including performance, capability, and cost. OpenAI publishes [tools for comparing the different models](https://platform.openai.com/docs/models). If images are included in the prompt, then the model selected in the prompt must have \"vision\" capabilities. Users should note that image inputs are [charged in tokens based on their dimensions](https://openai.com/api/pricing/). \n"
   ]
  },
  {
   "cell_type": "code",
   "execution_count": null,
   "id": "8e566e89",
   "metadata": {},
   "outputs": [
    {
     "data": {
      "text/html": [
       "<div>\n",
       "<style scoped>\n",
       "    .dataframe tbody tr th:only-of-type {\n",
       "        vertical-align: middle;\n",
       "    }\n",
       "\n",
       "    .dataframe tbody tr th {\n",
       "        vertical-align: top;\n",
       "    }\n",
       "\n",
       "    .dataframe thead th {\n",
       "        text-align: right;\n",
       "    }\n",
       "</style>\n",
       "<table border=\"1\" class=\"dataframe\">\n",
       "  <thead>\n",
       "    <tr style=\"text-align: right;\">\n",
       "      <th></th>\n",
       "      <th>museum_reference</th>\n",
       "      <th>title</th>\n",
       "      <th>description</th>\n",
       "      <th>date</th>\n",
       "      <th>style_culture</th>\n",
       "      <th>image</th>\n",
       "      <th>interpretation</th>\n",
       "      <th>GenAIinterpretation</th>\n",
       "      <th>tokens_used</th>\n",
       "    </tr>\n",
       "  </thead>\n",
       "  <tbody>\n",
       "    <tr>\n",
       "      <th>0</th>\n",
       "      <td>A.1911.397.243</td>\n",
       "      <td>Firestick</td>\n",
       "      <td>Firestick, wood with a reed sheath decorated w...</td>\n",
       "      <td>19th - 20th century</td>\n",
       "      <td>Australian Aboriginal</td>\n",
       "      <td>A.1911.397.243.png</td>\n",
       "      <td>A common method for making fire was to rub two...</td>\n",
       "      <td>Firesticks such as this, with a reed sheath an...</td>\n",
       "      <td>1258</td>\n",
       "    </tr>\n",
       "    <tr>\n",
       "      <th>1</th>\n",
       "      <td>A.1898.372.39</td>\n",
       "      <td>Vessel</td>\n",
       "      <td>Vessel (coolamon), roughly elliptical with rai...</td>\n",
       "      <td>19th century</td>\n",
       "      <td>Australian Aboriginal</td>\n",
       "      <td>A.1898.372.39.png</td>\n",
       "      <td>Coolamon are wooden dishes moulded over a fire...</td>\n",
       "      <td>This coolamon, an elliptical wooden vessel fro...</td>\n",
       "      <td>1273</td>\n",
       "    </tr>\n",
       "    <tr>\n",
       "      <th>2</th>\n",
       "      <td>A.1911.397.159</td>\n",
       "      <td>Bag</td>\n",
       "      <td>String bag (dilly-bag), plant fibre: Australas...</td>\n",
       "      <td>19th - 20th century</td>\n",
       "      <td>Australian Aboriginal</td>\n",
       "      <td>A.1911.397.159.png</td>\n",
       "      <td>Across Australia's Northern Territory, Aborigi...</td>\n",
       "      <td>Woven from plant fibres, this Australian Abori...</td>\n",
       "      <td>1258</td>\n",
       "    </tr>\n",
       "    <tr>\n",
       "      <th>3</th>\n",
       "      <td>K.2002.825</td>\n",
       "      <td>Basket</td>\n",
       "      <td>Basket, bicornual with handle, cane plant: Aus...</td>\n",
       "      <td>19th century</td>\n",
       "      <td>Australian Aboriginal</td>\n",
       "      <td>K.2002.825.png</td>\n",
       "      <td>Crescent-shaped cane baskets were unique to th...</td>\n",
       "      <td>Handwoven from cane plant, this bicornual bask...</td>\n",
       "      <td>1250</td>\n",
       "    </tr>\n",
       "    <tr>\n",
       "      <th>4</th>\n",
       "      <td>V.2008.25</td>\n",
       "      <td>Basket</td>\n",
       "      <td>Basket with black, red and yellow strips runni...</td>\n",
       "      <td>c. 2007</td>\n",
       "      <td>Pitjantjatjara</td>\n",
       "      <td>V.2008.25.png</td>\n",
       "      <td>Colourful coiled baskets are popular tourist i...</td>\n",
       "      <td>Woven by Alison (Milyika) Carroll in 2007, thi...</td>\n",
       "      <td>1290</td>\n",
       "    </tr>\n",
       "  </tbody>\n",
       "</table>\n",
       "</div>"
      ],
      "text/plain": [
       "  museum_reference      title  \\\n",
       "0   A.1911.397.243  Firestick   \n",
       "1    A.1898.372.39     Vessel   \n",
       "2   A.1911.397.159        Bag   \n",
       "3       K.2002.825     Basket   \n",
       "4        V.2008.25     Basket   \n",
       "\n",
       "                                         description                 date  \\\n",
       "0  Firestick, wood with a reed sheath decorated w...  19th - 20th century   \n",
       "1  Vessel (coolamon), roughly elliptical with rai...         19th century   \n",
       "2  String bag (dilly-bag), plant fibre: Australas...  19th - 20th century   \n",
       "3  Basket, bicornual with handle, cane plant: Aus...         19th century   \n",
       "4  Basket with black, red and yellow strips runni...              c. 2007   \n",
       "\n",
       "           style_culture               image  \\\n",
       "0  Australian Aboriginal  A.1911.397.243.png   \n",
       "1  Australian Aboriginal   A.1898.372.39.png   \n",
       "2  Australian Aboriginal  A.1911.397.159.png   \n",
       "3  Australian Aboriginal      K.2002.825.png   \n",
       "4         Pitjantjatjara       V.2008.25.png   \n",
       "\n",
       "                                      interpretation  \\\n",
       "0  A common method for making fire was to rub two...   \n",
       "1  Coolamon are wooden dishes moulded over a fire...   \n",
       "2  Across Australia's Northern Territory, Aborigi...   \n",
       "3  Crescent-shaped cane baskets were unique to th...   \n",
       "4  Colourful coiled baskets are popular tourist i...   \n",
       "\n",
       "                                 GenAIinterpretation  tokens_used  \n",
       "0  Firesticks such as this, with a reed sheath an...         1258  \n",
       "1  This coolamon, an elliptical wooden vessel fro...         1273  \n",
       "2  Woven from plant fibres, this Australian Abori...         1258  \n",
       "3  Handwoven from cane plant, this bicornual bask...         1250  \n",
       "4  Woven by Alison (Milyika) Carroll in 2007, thi...         1290  "
      ]
     },
     "execution_count": 39,
     "metadata": {},
     "output_type": "execute_result"
    }
   ],
   "source": [
    "# Prompt OpenAI API to generate interpretative text for each object in the dataframe.\n",
    "\n",
    "# create a list to store the responses\n",
    "GenAIinterpretation = []\n",
    "# create a list to store the number of tokens used\n",
    "tokens_used = []\n",
    "\n",
    "# loop through each row in the dataframe \n",
    "for index, row in df.iterrows():\n",
    "    # define object metadata\n",
    "    image_path = os.path.join('../images', row['image'])  # create the full path to the image file\n",
    "    title = row['title']  # get the name from the dataframe\n",
    "    description = row['description']  # get the description from the dataframe\n",
    "    date = row['date']  # get the date from the dataframe\n",
    "    style_culture = row['style_culture']  # get the style or culture from the dataframe\n",
    "\n",
    "    # encode the image to base64\n",
    "    base64_image = encode_image(image_path)\n",
    "\n",
    "    # use the OpenAI API to generate object interpretation\n",
    "    response = client.responses.create(\n",
    "        model=\"gpt-4.1\", # You can change the model to any other available model.\n",
    "        input=[\n",
    "            {\n",
    "            \"role\": \"system\", \n",
    "            \"content\": system_instructions\n",
    "            },\n",
    "            {\n",
    "                \"role\": \"user\",\n",
    "                \"content\": [\n",
    "                    { \n",
    "                        \"type\": \"input_text\", \n",
    "                        \"text\": f\"Title: {title}, Description: {description}, Date: {date}, Culture: {style_culture}\" \n",
    "                    },\n",
    "                    {\n",
    "                        \"type\": \"input_image\",\n",
    "                        \"image_url\": f\"data:image/png;base64,{base64_image}\",\n",
    "                    },\n",
    "                ],\n",
    "            }\n",
    "        ],\n",
    "    )\n",
    "    GenAIinterpretation.append(response.output_text) # This appends the generated interpretation to the list\n",
    "    tokens_used.append(response.usage.total_tokens) # This appends the number of tokens used to the list\n",
    "\n",
    "# add the responses to the dataframe\n",
    "df['GenAIinterpretation'] = GenAIinterpretation\n",
    "df['tokens_used'] = tokens_used\n",
    "\n",
    "# print the dataframe with the interpretations\n",
    "df.head()"
   ]
  },
  {
   "cell_type": "code",
   "execution_count": 41,
   "id": "2c54e024",
   "metadata": {},
   "outputs": [
    {
     "data": {
      "text/plain": [
       "'Crafted in 19th-century Cape York Peninsula, this necklace features delicate pearl shell oblongs, each hand-perforated and patiently threaded onto cordage. Such adornments held significance for Aboriginal communities in Queensland, symbolising identity, connection to land and sea, and intricate craftsmanship. As you observe the soft iridescence of the shell, consider the careful hands that shaped each piece, and the stories woven into this wearable piece of history.'"
      ]
     },
     "metadata": {},
     "output_type": "display_data"
    }
   ],
   "source": [
    "# display the interpretation for any individual object in the dataframe\n",
    "display(df.GenAIinterpretation[100]) # Change the number in square brackets following 'GenAIinterpretation' to view the GenAIinterpretation for a different object"
   ]
  },
  {
   "cell_type": "markdown",
   "id": "499ac143",
   "metadata": {},
   "source": [
    "# Save the dataframe\n",
    "Dataframes work very well within this virtual environment for a wide variety of computational tasks, but they are not designed for long-term data storage or for sharing and distribution. The following cells take the data from the dataframe and store it in one of two persistent file formats. Users can use the first cell to export data to a CSV file and the second to export data to a JSON file."
   ]
  },
  {
   "cell_type": "code",
   "execution_count": null,
   "id": "61e36cdc",
   "metadata": {},
   "outputs": [],
   "source": [
    "# use pandas to write a CSV file\n",
    "df.to_csv('../outputs/GenAIinterpretation.csv', index=False)  # replace 'outputs/GenAIinterpretation.csv' with the preferred file path"
   ]
  },
  {
   "cell_type": "code",
   "execution_count": null,
   "id": "1a5ef571",
   "metadata": {},
   "outputs": [],
   "source": [
    "# use pandas to write a JSON file\n",
    "df.to_json('../outputs/GenAIinterpretation.json', orient='records', lines=True)  # replace 'outputs/GenAIinterpretation.json' with the preferred file path"
   ]
  },
  {
   "cell_type": "markdown",
   "id": "c2e63270",
   "metadata": {},
   "source": [
    "Go to the Workbooks directory and open the workbook titled \"2_analysis.ipynb\" to continue with the analysis."
   ]
  }
 ],
 "metadata": {
  "kernelspec": {
   "display_name": ".venv",
   "language": "python",
   "name": "python3"
  },
  "language_info": {
   "codemirror_mode": {
    "name": "ipython",
    "version": 3
   },
   "file_extension": ".py",
   "mimetype": "text/x-python",
   "name": "python",
   "nbconvert_exporter": "python",
   "pygments_lexer": "ipython3",
   "version": "3.11.0"
  }
 },
 "nbformat": 4,
 "nbformat_minor": 5
}
